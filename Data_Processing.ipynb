{
 "cells": [
  {
   "cell_type": "markdown",
   "id": "b179758b",
   "metadata": {},
   "source": [
    "# Import the necessary libraries"
   ]
  },
  {
   "cell_type": "code",
   "execution_count": 1,
   "id": "93e1c8e2",
   "metadata": {},
   "outputs": [],
   "source": [
    "import sqlite3\n",
    "import numpy as np\n",
    "import pandas as pd\n",
    "#import plotly.express as px\n",
    "from sklearn.preprocessing import StandardScaler"
   ]
  },
  {
   "cell_type": "code",
   "execution_count": null,
   "id": "8453d96a",
   "metadata": {},
   "outputs": [],
   "source": []
  },
  {
   "cell_type": "markdown",
   "id": "63483676",
   "metadata": {},
   "source": [
    "# Connect to the database"
   ]
  },
  {
   "cell_type": "code",
   "execution_count": 2,
   "id": "344e89a6",
   "metadata": {},
   "outputs": [],
   "source": [
    "conn = sqlite3.connect('clean_database.db')\n",
    "cursor = conn.cursor()"
   ]
  },
  {
   "cell_type": "markdown",
   "id": "3f0cb5ee",
   "metadata": {},
   "source": [
    "# Check all the tables available within the database"
   ]
  },
  {
   "cell_type": "code",
   "execution_count": 3,
   "id": "a2af1c37",
   "metadata": {},
   "outputs": [
    {
     "name": "stdout",
     "output_type": "stream",
     "text": [
      "[('Meteostat_Data',), ('Entsoe_Data',), ('Entsoe_Meteostat_Data',), ('Entsoe_real_data',), ('Entsoe_real_values_and_Meteostat_data',), ('Entsoe_forecasted_data',), ('Entsoe_forecasted_data_and_Meteostat_data',), ('Feature_selected_real_data',), ('Feature_selected_forecasted_data',), ('X_test_real',), ('X_train_forecasted',), ('X_test_forecasted',), ('y_train',), ('y_test',), ('X_train_real',), ('RandomForest_Train_Real_Test_Forecast',), ('LinearRegresion_Train_Real_Test_Forecast',), ('LinearRegresion_Train_Forecast_Test_Forecast',), ('LinearRegresion_Train_Real_Test_Real',), ('RandomForest_Train_Forecast_Test_Forecast',), ('RandomForest_Train_Real_Test_Real',), ('Prophet_Train_Real_Test_Forecast',), ('Prophet_Train_Forecast_Test_Forecast',), ('Optimized_Prophet_Train_Forecast_Test_Forecast',), ('Prophet_Train_Real_Test_Real',), ('Optimized_Prophet_Train_Real_Test_Real',), ('Optimized_Prophet_Train_Real_Test_Forecast',)]\n"
     ]
    }
   ],
   "source": [
    "cursor.execute(\"SELECT name FROM sqlite_master WHERE type ='table';\")\n",
    "print(cursor.fetchall())"
   ]
  },
  {
   "cell_type": "markdown",
   "id": "22aa61ac",
   "metadata": {},
   "source": [
    "# Retrieving the necesary tables from database"
   ]
  },
  {
   "cell_type": "code",
   "execution_count": 4,
   "id": "9127e249",
   "metadata": {},
   "outputs": [],
   "source": [
    "entsoe_meteostat_real = pd.read_sql(\"SELECT * FROM Feature_selected_real_data;\", conn)\n",
    "entsoe_meteostat_real[\"timestamp\"] = pd.to_datetime(entsoe_meteostat_real[\"timestamp\"])\n",
    "entsoe_meteostat_real = entsoe_meteostat_real.set_index(\"timestamp\")"
   ]
  },
  {
   "cell_type": "code",
   "execution_count": 5,
   "id": "aad6b989",
   "metadata": {},
   "outputs": [],
   "source": [
    "entsoe_meteostat_forecast = pd.read_sql(\"SELECT * FROM Feature_selected_forecasted_data;\", conn)\n",
    "entsoe_meteostat_forecast[\"timestamp\"] = pd.to_datetime(entsoe_meteostat_forecast[\"timestamp\"])\n",
    "entsoe_meteostat_forecast = entsoe_meteostat_forecast.set_index(\"timestamp\")\n",
    "entsoe_meteostat_forecast[\"forecasted_energy_load\"] = entsoe_meteostat_real[\"real_energy_load\"]\n",
    "entsoe_meteostat_forecast = entsoe_meteostat_forecast.rename(columns={\"forecasted_energy_load\": \"real_energy_load\"})\n"
   ]
  },
  {
   "cell_type": "markdown",
   "id": "91022b10",
   "metadata": {},
   "source": [
    "# Split data in:  train, validation and test data"
   ]
  },
  {
   "cell_type": "markdown",
   "id": "fec3016e",
   "metadata": {},
   "source": [
    "## Train data"
   ]
  },
  {
   "cell_type": "code",
   "execution_count": 6,
   "id": "e1feb8fb",
   "metadata": {},
   "outputs": [],
   "source": [
    "def split_data(df: pd.DataFrame, training_start, training_end): \n",
    "    df2 = df[(df.index  >= training_start) & (df.index < training_end)].copy(deep=True)\n",
    "    \n",
    "    return df2"
   ]
  },
  {
   "cell_type": "code",
   "execution_count": 7,
   "id": "396c9d8e",
   "metadata": {},
   "outputs": [],
   "source": [
    "# Start date and End Date of Training dataset\n",
    "start = pd.to_datetime('2017-10-03 01:00:00') \n",
    "end = pd.to_datetime('2021-08-03 01:00:00')"
   ]
  },
  {
   "cell_type": "code",
   "execution_count": 8,
   "id": "77685303",
   "metadata": {},
   "outputs": [],
   "source": [
    "train_real_data = split_data(entsoe_meteostat_real, start, end)"
   ]
  },
  {
   "cell_type": "code",
   "execution_count": 9,
   "id": "939caa03",
   "metadata": {},
   "outputs": [],
   "source": [
    "train_forecasted_data = split_data(entsoe_meteostat_forecast, start, end)"
   ]
  },
  {
   "cell_type": "markdown",
   "id": "898ed05b",
   "metadata": {},
   "source": [
    "### Test data"
   ]
  },
  {
   "cell_type": "code",
   "execution_count": 10,
   "id": "8dc7fac9",
   "metadata": {},
   "outputs": [],
   "source": [
    "start = pd.to_datetime('2021-08-03 01:00:00') \n",
    "end = pd.to_datetime('2022-01-01 01:00:00')"
   ]
  },
  {
   "cell_type": "code",
   "execution_count": 11,
   "id": "a8842c51",
   "metadata": {},
   "outputs": [],
   "source": [
    "test_real_data = split_data(entsoe_meteostat_real, start, end)"
   ]
  },
  {
   "cell_type": "code",
   "execution_count": 12,
   "id": "4dae584b",
   "metadata": {},
   "outputs": [],
   "source": [
    "test_forecasted_data = split_data(entsoe_meteostat_forecast, start, end)"
   ]
  },
  {
   "cell_type": "code",
   "execution_count": 13,
   "id": "5c237e3f",
   "metadata": {},
   "outputs": [],
   "source": [
    "y_train = train_real_data.iloc[:,:1].copy()"
   ]
  },
  {
   "cell_type": "code",
   "execution_count": 14,
   "id": "587cf7c1",
   "metadata": {},
   "outputs": [],
   "source": [
    "y_train.to_sql(\"y_train\", conn, if_exists='replace', index=True, index_label=None, chunksize=None, dtype=None, method=None)"
   ]
  },
  {
   "cell_type": "code",
   "execution_count": 15,
   "id": "d9240e5f",
   "metadata": {},
   "outputs": [],
   "source": [
    "y_test = test_forecasted_data.iloc[:,:1].copy()\n",
    "y_test.to_sql(\"y_test\", conn, if_exists='replace', index=True, index_label=None, chunksize=None, dtype=None, method=None)"
   ]
  },
  {
   "cell_type": "markdown",
   "id": "ad999e06",
   "metadata": {},
   "source": [
    "### Normalization"
   ]
  },
  {
   "cell_type": "markdown",
   "id": "ef2cf37b",
   "metadata": {},
   "source": [
    "### Min - Max Normalization"
   ]
  },
  {
   "cell_type": "code",
   "execution_count": null,
   "id": "08002a7f",
   "metadata": {},
   "outputs": [],
   "source": []
  },
  {
   "cell_type": "markdown",
   "id": "e33e5553",
   "metadata": {},
   "source": [
    "### Log - Scalling"
   ]
  },
  {
   "cell_type": "code",
   "execution_count": null,
   "id": "138e07b7",
   "metadata": {},
   "outputs": [],
   "source": []
  },
  {
   "cell_type": "markdown",
   "id": "ea34eb1c",
   "metadata": {},
   "source": [
    "### Z - score"
   ]
  },
  {
   "cell_type": "markdown",
   "id": "926bdd45",
   "metadata": {},
   "source": [
    "> To prevent the leakage between train data and validation and test data, I fitted and transform the train set and only transform the validation and test set"
   ]
  },
  {
   "cell_type": "code",
   "execution_count": 16,
   "id": "9b9a86df",
   "metadata": {},
   "outputs": [],
   "source": [
    "scaler = StandardScaler()"
   ]
  },
  {
   "cell_type": "code",
   "execution_count": 17,
   "id": "4511bd7c",
   "metadata": {},
   "outputs": [],
   "source": [
    "# Train data for real data\n",
    "X_train_real = train_real_data.iloc[:, 1:]\n",
    "X_train_real = scaler.fit_transform(X_train_real)\n",
    "X_train_real = pd.DataFrame(X_train_real, columns = train_real_data.iloc[:, 1:].columns )\n",
    "X_train_real.index = train_real_data.index\n",
    "\n",
    "# Test data for real data\n",
    "X_test_real= test_real_data.iloc[:, 1:]\n",
    "X_test_real = scaler.transform(X_test_real)\n",
    "X_test_real = pd.DataFrame(X_test_real, columns = test_real_data.iloc[:, 1:].columns )\n",
    "X_test_real.index = test_real_data.index"
   ]
  },
  {
   "cell_type": "code",
   "execution_count": 18,
   "id": "9753f5b0",
   "metadata": {},
   "outputs": [
    {
     "name": "stderr",
     "output_type": "stream",
     "text": [
      "c:\\users\\elena\\miniconda3\\lib\\site-packages\\pandas\\core\\generic.py:2872: UserWarning: The spaces in these column names will not be changed. In pandas versions < 0.14, spaces were converted to underscores.\n",
      "  sql.to_sql(\n"
     ]
    }
   ],
   "source": [
    "X_train_real.to_sql(\"X_train_real\", conn, if_exists='replace', index=True, index_label=None, chunksize=None, dtype=None, method=None)\n",
    "X_test_real.to_sql(\"X_test_real\", conn, if_exists='replace', index=True, index_label=None, chunksize=None, dtype=None, method=None)\n"
   ]
  },
  {
   "cell_type": "code",
   "execution_count": 19,
   "id": "01d1f481",
   "metadata": {},
   "outputs": [],
   "source": [
    "scaler_2 = StandardScaler()"
   ]
  },
  {
   "cell_type": "code",
   "execution_count": 20,
   "id": "ea634d5d",
   "metadata": {},
   "outputs": [],
   "source": [
    "# Train data for forecasted data\n",
    "X_train_forecasted = train_forecasted_data.iloc[:, 1:]\n",
    "X_train_forecasted = scaler_2.fit_transform(X_train_forecasted)\n",
    "X_train_forecasted = pd.DataFrame(X_train_forecasted, columns = train_real_data.iloc[:, 1:].columns)\n",
    "X_train_forecasted.index = train_forecasted_data.index\n",
    "\n",
    "# Test data for forecasted data\n",
    "\n",
    "X_test_forecasted = test_forecasted_data.iloc[:, 1:]\n",
    "X_test_forecasted = scaler_2.transform(X_test_forecasted)\n",
    "X_test_forecasted = pd.DataFrame(X_test_forecasted, columns = test_real_data.iloc[:, 1:].columns)\n",
    "X_test_forecasted.index = test_forecasted_data.index"
   ]
  },
  {
   "cell_type": "code",
   "execution_count": 21,
   "id": "2fc901db",
   "metadata": {},
   "outputs": [
    {
     "name": "stderr",
     "output_type": "stream",
     "text": [
      "c:\\users\\elena\\miniconda3\\lib\\site-packages\\pandas\\core\\generic.py:2872: UserWarning: The spaces in these column names will not be changed. In pandas versions < 0.14, spaces were converted to underscores.\n",
      "  sql.to_sql(\n"
     ]
    }
   ],
   "source": [
    "X_train_forecasted.to_sql(\"X_train_forecasted\", conn, if_exists='replace', index=True, index_label=None, chunksize=None, dtype=None, method=None)\n",
    "X_test_forecasted.to_sql(\"X_test_forecasted\", conn, if_exists='replace', index=True, index_label=None, chunksize=None, dtype=None, method=None)\n"
   ]
  },
  {
   "cell_type": "code",
   "execution_count": null,
   "id": "ebee97ea",
   "metadata": {},
   "outputs": [],
   "source": []
  },
  {
   "cell_type": "code",
   "execution_count": null,
   "id": "09df3d28",
   "metadata": {},
   "outputs": [],
   "source": []
  }
 ],
 "metadata": {
  "kernelspec": {
   "display_name": "plotly",
   "language": "python",
   "name": "plotly"
  },
  "language_info": {
   "codemirror_mode": {
    "name": "ipython",
    "version": 3
   },
   "file_extension": ".py",
   "mimetype": "text/x-python",
   "name": "python",
   "nbconvert_exporter": "python",
   "pygments_lexer": "ipython3",
   "version": "3.9.5"
  }
 },
 "nbformat": 4,
 "nbformat_minor": 5
}
